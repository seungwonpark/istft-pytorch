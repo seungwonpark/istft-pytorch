{
 "cells": [
  {
   "cell_type": "markdown",
   "metadata": {},
   "source": [
    "# Comparison of Inverse-STFT implementations\n",
    "- Seungwon Park's implementation: IFFT + deconvolution for stacking `ytmp`\n",
    "- Keunwoo Choi's implementation: based on IRFFT\n",
    "- Both are based on librosa's implementation\n",
    "  - http://librosa.github.io/librosa/_modules/librosa/core/spectrum.html#istft"
   ]
  },
  {
   "cell_type": "code",
   "execution_count": 1,
   "metadata": {},
   "outputs": [],
   "source": [
    "import time\n",
    "import torch\n",
    "import librosa"
   ]
  },
  {
   "cell_type": "code",
   "execution_count": 2,
   "metadata": {},
   "outputs": [],
   "source": [
    "from istft_deconv import istft_deconv\n",
    "from istft_irfft import istft_irfft"
   ]
  },
  {
   "cell_type": "code",
   "execution_count": 3,
   "metadata": {},
   "outputs": [],
   "source": [
    "y, sr = librosa.load(librosa.util.example_audio_file(), duration=2.0)\n",
    "n_fft = 2048\n",
    "hop_length = n_fft // 4\n",
    "y = torch.tensor(y)\n",
    "stft = torch.stft(y, n_fft, hop_length)"
   ]
  },
  {
   "cell_type": "code",
   "execution_count": 4,
   "metadata": {},
   "outputs": [],
   "source": [
    "stft_single = stft\n",
    "stft_batch = stft.unsqueeze(0)"
   ]
  },
  {
   "cell_type": "code",
   "execution_count": 5,
   "metadata": {},
   "outputs": [
    {
     "name": "stdout",
     "output_type": "stream",
     "text": [
      "Results are consistent. Maximum difference: 8.940696716308594e-08\n"
     ]
    }
   ],
   "source": [
    "result_deconv = istft_deconv(stft_single, hop_length)\n",
    "result_irfft = istft_irfft(stft_batch, hop_length)[0]\n",
    "\n",
    "diff = torch.max(torch.abs(result_deconv - result_irfft)).item()\n",
    "\n",
    "if diff < 1e-4:\n",
    "    print(f'Results are consistent. Maximum difference: {diff}')"
   ]
  },
  {
   "cell_type": "code",
   "execution_count": 6,
   "metadata": {},
   "outputs": [
    {
     "name": "stdout",
     "output_type": "stream",
     "text": [
      "30.6 ms ± 778 µs per loop (mean ± std. dev. of 7 runs, 10 loops each)\n"
     ]
    }
   ],
   "source": [
    "%timeit result_deconv = istft_deconv(stft_single, hop_length)"
   ]
  },
  {
   "cell_type": "code",
   "execution_count": 7,
   "metadata": {},
   "outputs": [
    {
     "name": "stdout",
     "output_type": "stream",
     "text": [
      "6.23 ms ± 163 µs per loop (mean ± std. dev. of 7 runs, 100 loops each)\n"
     ]
    }
   ],
   "source": [
    "%timeit result_irfft = istft_irfft(stft_batch, hop_length)[0]"
   ]
  },
  {
   "cell_type": "markdown",
   "metadata": {},
   "source": [
    "# Conclusion\n",
    "- IRFFT-based implementation is faster, showing that better parallelization doesn't outspeed algorithmic optimization."
   ]
  }
 ],
 "metadata": {
  "kernelspec": {
   "display_name": "Python 3",
   "language": "python",
   "name": "python3"
  },
  "language_info": {
   "codemirror_mode": {
    "name": "ipython",
    "version": 3
   },
   "file_extension": ".py",
   "mimetype": "text/x-python",
   "name": "python",
   "nbconvert_exporter": "python",
   "pygments_lexer": "ipython3",
   "version": "3.6.5"
  }
 },
 "nbformat": 4,
 "nbformat_minor": 2
}
